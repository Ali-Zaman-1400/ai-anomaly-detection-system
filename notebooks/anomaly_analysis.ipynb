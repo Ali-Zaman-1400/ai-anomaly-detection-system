{
 "cells": [{
  "cell_type": "code",
  "source": [
   "import pandas as pd\n",
   "df = pd.read_csv('../data/raw/synthetic_transactions.csv')\n",
   "df['is_anomaly'].value_counts()"
  ]
 }],
 "metadata": {"kernelspec": {"name": "python3"}},
 "nbformat": 4, "nbformat_minor": 5
}